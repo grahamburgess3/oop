{
 "cells": [
  {
   "cell_type": "markdown",
   "id": "98d7b951-e6b8-4531-9077-f7ae753e8694",
   "metadata": {},
   "source": [
    "# Object oriented programming in Python"
   ]
  },
  {
   "cell_type": "code",
   "execution_count": 1,
   "id": "4e79bb34-e6d5-42a4-9e6e-b1c238b11654",
   "metadata": {},
   "outputs": [],
   "source": [
    "import random\n",
    "from collections import Counter"
   ]
  },
  {
   "cell_type": "markdown",
   "id": "c1b847df-432a-4c6b-b379-9cd36e3d8f35",
   "metadata": {},
   "source": [
    "## Procedural paradigm"
   ]
  },
  {
   "cell_type": "code",
   "execution_count": 2,
   "id": "257c3a19-b248-4532-b95c-4af87ed578f3",
   "metadata": {},
   "outputs": [
    {
     "name": "stdout",
     "output_type": "stream",
     "text": [
      "my_int: 2\n"
     ]
    }
   ],
   "source": [
    "from examples import increment\n",
    "\n",
    "my_int = 0\n",
    "my_int = increment(my_int)\n",
    "my_int = increment(my_int)\n",
    "print('my_int: ' + str(my_int))"
   ]
  },
  {
   "cell_type": "markdown",
   "id": "96c2b4c4-bd8e-475e-b172-68fe973be5ba",
   "metadata": {},
   "source": [
    "## OOP paradigm"
   ]
  },
  {
   "cell_type": "code",
   "execution_count": 3,
   "id": "a6750adf-82bf-4db0-805f-a63c1d3073ec",
   "metadata": {},
   "outputs": [
    {
     "name": "stdout",
     "output_type": "stream",
     "text": [
      "my_oop_int: 2\n"
     ]
    }
   ],
   "source": [
    "from examples import MyInt\n",
    "\n",
    "my_oop_int = MyInt()\n",
    "my_oop_int.increment()\n",
    "my_oop_int.increment()\n",
    "print('my_oop_int: ' + str(my_oop_int))"
   ]
  },
  {
   "cell_type": "code",
   "execution_count": 4,
   "id": "99c4bd8c-84d2-430d-80d6-3d0a703f8d09",
   "metadata": {},
   "outputs": [
    {
     "name": "stdout",
     "output_type": "stream",
     "text": [
      "<class 'int'>\n",
      "<class 'examples.MyInt'>\n"
     ]
    }
   ],
   "source": [
    "print(type(my_int))\n",
    "print(type(my_oop_int))"
   ]
  },
  {
   "cell_type": "markdown",
   "id": "93f85981-27d4-4d5c-98df-28c4d3248186",
   "metadata": {},
   "source": [
    "## Building a class\n",
    "#### Defining the class"
   ]
  },
  {
   "cell_type": "code",
   "execution_count": 5,
   "id": "30ca1033-9b50-44c5-b286-042d93c4b9f5",
   "metadata": {},
   "outputs": [],
   "source": [
    "class SolutionSpace:\n",
    "    pass"
   ]
  },
  {
   "cell_type": "code",
   "execution_count": 6,
   "id": "c17440de-0404-43cd-8956-e129bbe9c670",
   "metadata": {},
   "outputs": [
    {
     "name": "stdout",
     "output_type": "stream",
     "text": [
      "<class '__main__.SolutionSpace'>\n"
     ]
    }
   ],
   "source": [
    "X = SolutionSpace()\n",
    "print(type(X))"
   ]
  },
  {
   "cell_type": "markdown",
   "id": "8cb4b873-5fde-45c5-8bad-0a25c9aa9fd5",
   "metadata": {},
   "source": [
    "#### Class attributes"
   ]
  },
  {
   "cell_type": "code",
   "execution_count": 7,
   "id": "9f951a20-a27b-47a6-9e3c-49fbe9eed3a5",
   "metadata": {},
   "outputs": [],
   "source": [
    "class SolutionSpace:\n",
    "    project = 'My PhD'\n"
   ]
  },
  {
   "cell_type": "code",
   "execution_count": 8,
   "id": "9bd4ff77-614a-40f7-911b-226c43997010",
   "metadata": {},
   "outputs": [
    {
     "name": "stdout",
     "output_type": "stream",
     "text": [
      "My PhD\n"
     ]
    }
   ],
   "source": [
    "X = SolutionSpace()\n",
    "print(X.project)"
   ]
  },
  {
   "cell_type": "markdown",
   "id": "78dcc116-2240-49d6-b4e4-9a190fa46d4d",
   "metadata": {},
   "source": [
    "#### Init constructor"
   ]
  },
  {
   "cell_type": "code",
   "execution_count": 9,
   "id": "7da6b26a-7d95-4091-a310-aded9c0c7c0e",
   "metadata": {},
   "outputs": [],
   "source": [
    "class SolutionSpace:\n",
    "    project = 'My PhD'\n",
    "\n",
    "    def __init__(self, obj_vals):\n",
    "        self.obj_vals = obj_vals"
   ]
  },
  {
   "cell_type": "code",
   "execution_count": 10,
   "id": "3574830f-3ccb-4446-8bb1-9a46e34658c8",
   "metadata": {},
   "outputs": [
    {
     "name": "stdout",
     "output_type": "stream",
     "text": [
      "0.13436424411240122\n",
      "0.8474337369372327\n",
      "0.763774618976614\n",
      "0.2550690257394217\n",
      "0.49543508709194095\n",
      "0.4494910647887381\n",
      "0.651592972722763\n",
      "0.7887233511355132\n",
      "0.0938595867742349\n",
      "0.02834747652200631\n"
     ]
    }
   ],
   "source": [
    "random.seed(1)\n",
    "X = SolutionSpace([random.uniform(0,1) for i in range(10)])\n",
    "for i in X.obj_vals:\n",
    "    print(i)"
   ]
  },
  {
   "cell_type": "markdown",
   "id": "bb2f563b-4deb-4c84-b533-cb7d094423bf",
   "metadata": {},
   "source": [
    "#### Instance methods and attributes\n",
    "The role of 'self' - the instance method implicitly passes instance itself as the first argument, and this is referred to within the function as self. "
   ]
  },
  {
   "cell_type": "code",
   "execution_count": 11,
   "id": "9381ec19-060d-4ef7-8d34-cc9ca3da0892",
   "metadata": {},
   "outputs": [],
   "source": [
    "class SolutionSpace:\n",
    "    project = 'My PhD'\n",
    "\n",
    "    def __init__(self, obj_vals):\n",
    "        self.obj_vals = obj_vals\n",
    "        self.current_best = 0\n",
    "\n",
    "    \n",
    "        \n",
    "    def set_initial_solution(self, index):\n",
    "        try:\n",
    "            index_best = int(index)\n",
    "        except ValueError:\n",
    "            return\n",
    "        self.current_best = index_best\n",
    "\n",
    "    def compare_with_current_best(self, index):\n",
    "        if self.obj_vals[index] < self.obj_vals[self.current_best]:\n",
    "            self.current_best = index\n",
    "        \n",
    "    def find_best(self):\n",
    "        self.current_best = self.obj_vals.index(min(self.obj_vals))\n"
   ]
  },
  {
   "cell_type": "code",
   "execution_count": 12,
   "id": "7776a901-4dcd-4fb7-947a-293b7c8c6685",
   "metadata": {},
   "outputs": [
    {
     "name": "stdout",
     "output_type": "stream",
     "text": [
      "0.13436424411240122\n",
      "0.8474337369372327\n",
      "0.763774618976614\n",
      "0.2550690257394217\n",
      "0.49543508709194095\n",
      "0.4494910647887381\n",
      "0.651592972722763\n",
      "0.7887233511355132\n",
      "0.0938595867742349\n",
      "0.02834747652200631\n",
      "Initial guess of best solution at index 1\n",
      "Update of best solution at index 2\n",
      "True best solution is at index 9\n"
     ]
    }
   ],
   "source": [
    "random.seed(1)\n",
    "X = SolutionSpace([random.uniform(0,1) for i in range(10)])\n",
    "for i in X.obj_vals:\n",
    "    print(i)\n",
    "X.set_initial_solution(1)\n",
    "print('Initial guess of best solution at index ' + str(X.current_best))\n",
    "X.compare_with_current_best(2)\n",
    "print('Update of best solution at index ' + str(X.current_best))\n",
    "X.find_best()\n",
    "print('True best solution is at index ' + str(X.current_best))\n"
   ]
  },
  {
   "cell_type": "markdown",
   "id": "8ced4287-4df3-4bf7-aeb4-d52c0c1db943",
   "metadata": {},
   "source": [
    "#### Encapsulation\n",
    "Why use methods to update data when we can do it outside of the method. E.g.: "
   ]
  },
  {
   "cell_type": "code",
   "execution_count": 13,
   "id": "0b3a377f-1074-4e7e-aa09-615cb8e6bcd4",
   "metadata": {},
   "outputs": [
    {
     "name": "stdout",
     "output_type": "stream",
     "text": [
      "0.13436424411240122\n",
      "0.8474337369372327\n",
      "0.763774618976614\n",
      "0.2550690257394217\n",
      "0.49543508709194095\n",
      "0.4494910647887381\n",
      "0.651592972722763\n",
      "0.7887233511355132\n",
      "0.0938595867742349\n",
      "0.02834747652200631\n",
      "Initial guess of best solution at position 0\n"
     ]
    }
   ],
   "source": [
    "random.seed(1)\n",
    "X = SolutionSpace([random.uniform(0,1) for i in range(10)])\n",
    "for i in X.obj_vals:\n",
    "    print(i)\n",
    "# X.set_initial_solution(1)\n",
    "# X.current_best = 1\n",
    "# X.current_best = 'blah'\n",
    "# X.set_initial_solution('blah')\n",
    "print('Initial guess of best solution at position ' + str(X.current_best))\n"
   ]
  },
  {
   "cell_type": "code",
   "execution_count": 14,
   "id": "8e8019e0-465a-46e2-b9cc-0547408549fe",
   "metadata": {},
   "outputs": [
    {
     "name": "stdout",
     "output_type": "stream",
     "text": [
      "Update of best solution at position 0\n",
      "True best solution is at position 9\n"
     ]
    }
   ],
   "source": [
    "X.compare_with_current_best(2)\n",
    "print('Update of best solution at position ' + str(X.current_best))\n",
    "X.find_best()\n",
    "print('True best solution is at position ' + str(X.current_best))"
   ]
  },
  {
   "cell_type": "markdown",
   "id": "f831e979-264d-4c33-be03-a6b767df0a72",
   "metadata": {},
   "source": [
    "Using methods can help ensure the integrity of the data in the object. This is an example of encapsulation"
   ]
  },
  {
   "cell_type": "markdown",
   "id": "6a9032ed-2814-47c9-978c-8db439006892",
   "metadata": {},
   "source": [
    "#### Inheritance"
   ]
  },
  {
   "cell_type": "code",
   "execution_count": 15,
   "id": "379eb8e1-612f-4669-95e8-e14e0aee056e",
   "metadata": {},
   "outputs": [],
   "source": [
    "class SolutionSpaceInt(SolutionSpace):\n",
    "    def return_like_solutions(self):\n",
    "        c = Counter(self.obj_vals)\n",
    "        self.repeated_vals = [i for i in c if c[i] > 1]"
   ]
  },
  {
   "cell_type": "code",
   "execution_count": 16,
   "id": "c060c2c0-5462-4fb9-a1f7-13adbed211d4",
   "metadata": {},
   "outputs": [
    {
     "name": "stdout",
     "output_type": "stream",
     "text": [
      "[3, 10, 2, 5, 2, 8, 8, 8, 7, 4]\n",
      "0\n",
      "2\n",
      "[2, 8]\n"
     ]
    }
   ],
   "source": [
    "random.seed(1)\n",
    "Y = SolutionSpaceInt([random.randint(1,10) for i in range(10)])\n",
    "print(Y.obj_vals)\n",
    "print(Y.current_best)\n",
    "Y.find_best()\n",
    "print(Y.current_best)\n",
    "Y.return_like_solutions()\n",
    "print(Y.repeated_vals)"
   ]
  },
  {
   "cell_type": "code",
   "execution_count": 17,
   "id": "a6677f43-e98a-4fec-b5e1-69b14f814e32",
   "metadata": {},
   "outputs": [],
   "source": [
    "class SolutionSpaceInt(SolutionSpace):\n",
    "    def __init__(self, obj_vals):\n",
    "        super(SolutionSpaceInt, self).__init__(obj_vals)\n",
    "        c = Counter(obj_vals)\n",
    "        self.repeated_vals = [i for i in c if c[i] > 1]"
   ]
  },
  {
   "cell_type": "code",
   "execution_count": 18,
   "id": "fd1eeb62-df98-430c-bf6b-9c1ef53d4d94",
   "metadata": {},
   "outputs": [
    {
     "name": "stdout",
     "output_type": "stream",
     "text": [
      "[3, 10, 2, 5, 2, 8, 8, 8, 7, 4]\n",
      "[2, 8]\n"
     ]
    }
   ],
   "source": [
    "random.seed(1)\n",
    "Y = SolutionSpaceInt([random.randint(1,10) for i in range(10)])\n",
    "print(Y.obj_vals)\n",
    "print(Y.repeated_vals)"
   ]
  }
 ],
 "metadata": {
  "kernelspec": {
   "display_name": ".venv",
   "language": "python",
   "name": ".venv"
  },
  "language_info": {
   "codemirror_mode": {
    "name": "ipython",
    "version": 3
   },
   "file_extension": ".py",
   "mimetype": "text/x-python",
   "name": "python",
   "nbconvert_exporter": "python",
   "pygments_lexer": "ipython3",
   "version": "3.10.12"
  },
  "name": "oop-examples.ipynb"
 },
 "nbformat": 4,
 "nbformat_minor": 5
}

{
 "cells": [
  {
   "cell_type": "markdown",
   "id": "98d7b951-e6b8-4531-9077-f7ae753e8694",
   "metadata": {
    "collapsed": false
   },
   "source": [
    "# Object oriented programming in Python"
   ]
  },
  {
   "cell_type": "code",
   "execution_count": 1,
   "id": "4e79bb34-e6d5-42a4-9e6e-b1c238b11654",
   "metadata": {
    "collapsed": false
   },
   "outputs": [],
   "source": [
    "import random"
   ]
  },
  {
   "cell_type": "markdown",
   "id": "c1b847df-432a-4c6b-b379-9cd36e3d8f35",
   "metadata": {
    "collapsed": false
   },
   "source": [
    "## Procedural paradigm"
   ]
  },
  {
   "cell_type": "code",
   "execution_count": 2,
   "id": "257c3a19-b248-4532-b95c-4af87ed578f3",
   "metadata": {
    "collapsed": false
   },
   "outputs": [
    {
     "name": "stdout",
     "output_type": "stream",
     "text": [
      "my_int: 2\n"
     ]
    }
   ],
   "source": [
    "from examples import increment\n",
    "\n",
    "my_int = 0\n",
    "my_int = increment(my_int)\n",
    "my_int = increment(my_int)\n",
    "print('my_int: ' + str(my_int))"
   ]
  },
  {
   "cell_type": "markdown",
   "id": "96c2b4c4-bd8e-475e-b172-68fe973be5ba",
   "metadata": {
    "collapsed": false
   },
   "source": [
    "## OOP paradigm"
   ]
  },
  {
   "cell_type": "code",
   "execution_count": 3,
   "id": "a6750adf-82bf-4db0-805f-a63c1d3073ec",
   "metadata": {
    "collapsed": false
   },
   "outputs": [
    {
     "name": "stdout",
     "output_type": "stream",
     "text": [
      "my_oop_int: 2\n"
     ]
    }
   ],
   "source": [
    "from examples import MyInt\n",
    "\n",
    "my_oop_int = MyInt()\n",
    "my_oop_int.increment()\n",
    "my_oop_int.increment()\n",
    "print('my_oop_int: ' + str(my_oop_int))"
   ]
  },
  {
   "cell_type": "code",
   "execution_count": 4,
   "id": "99c4bd8c-84d2-430d-80d6-3d0a703f8d09",
   "metadata": {
    "collapsed": false
   },
   "outputs": [
    {
     "name": "stdout",
     "output_type": "stream",
     "text": [
      "<class 'int'>\n",
      "<class 'examples.MyInt'>\n"
     ]
    }
   ],
   "source": [
    "print(type(my_int))\n",
    "print(type(my_oop_int))"
   ]
  },
  {
   "cell_type": "markdown",
   "id": "93f85981-27d4-4d5c-98df-28c4d3248186",
   "metadata": {
    "collapsed": false
   },
   "source": [
    "## Building a class\n",
    "#### Defining the class"
   ]
  },
  {
   "cell_type": "code",
   "execution_count": 5,
   "id": "30ca1033-9b50-44c5-b286-042d93c4b9f5",
   "metadata": {
    "collapsed": false
   },
   "outputs": [],
   "source": [
    "class SolutionSpace:\n",
    "    pass"
   ]
  },
  {
   "cell_type": "code",
   "execution_count": 6,
   "id": "c17440de-0404-43cd-8956-e129bbe9c670",
   "metadata": {
    "collapsed": false
   },
   "outputs": [
    {
     "name": "stdout",
     "output_type": "stream",
     "text": [
      "<class '__main__.SolutionSpace'>\n"
     ]
    }
   ],
   "source": [
    "X = SolutionSpace()\n",
    "print(type(X))"
   ]
  },
  {
   "cell_type": "markdown",
   "id": "8cb4b873-5fde-45c5-8bad-0a25c9aa9fd5",
   "metadata": {
    "collapsed": false
   },
   "source": [
    "#### Class attributes"
   ]
  },
  {
   "cell_type": "code",
   "execution_count": 7,
   "id": "9f951a20-a27b-47a6-9e3c-49fbe9eed3a5",
   "metadata": {
    "collapsed": false
   },
   "outputs": [],
   "source": [
    "class SolutionSpace:\n",
    "    project = 'My PhD'\n"
   ]
  },
  {
   "cell_type": "code",
   "execution_count": 8,
   "id": "9bd4ff77-614a-40f7-911b-226c43997010",
   "metadata": {
    "collapsed": false
   },
   "outputs": [
    {
     "name": "stdout",
     "output_type": "stream",
     "text": [
      "My PhD\n"
     ]
    }
   ],
   "source": [
    "X = SolutionSpace()\n",
    "print(X.project)"
   ]
  },
  {
   "cell_type": "markdown",
   "id": "78dcc116-2240-49d6-b4e4-9a190fa46d4d",
   "metadata": {
    "collapsed": false
   },
   "source": [
    "#### Init constructor"
   ]
  },
  {
   "cell_type": "code",
   "execution_count": 9,
   "id": "7da6b26a-7d95-4091-a310-aded9c0c7c0e",
   "metadata": {
    "collapsed": false
   },
   "outputs": [],
   "source": [
    "class SolutionSpace:\n",
    "    project = 'My PhD'\n",
    "\n",
    "    def __init__(self, obj_vals):\n",
    "        self.obj_vals = obj_vals"
   ]
  },
  {
   "cell_type": "code",
   "execution_count": 10,
   "id": "3574830f-3ccb-4446-8bb1-9a46e34658c8",
   "metadata": {
    "collapsed": false
   },
   "outputs": [
    {
     "name": "stdout",
     "output_type": "stream",
     "text": [
      "[0.13436424411240122, 0.8474337369372327, 0.763774618976614, 0.2550690257394217, 0.49543508709194095, 0.4494910647887381, 0.651592972722763, 0.7887233511355132, 0.0938595867742349, 0.02834747652200631]\n"
     ]
    }
   ],
   "source": [
    "random.seed(1)\n",
    "X = SolutionSpace([random.uniform(0,1) for i in range(10)])\n",
    "print(X.obj_vals)"
   ]
  },
  {
   "cell_type": "markdown",
   "id": "bb2f563b-4deb-4c84-b533-cb7d094423bf",
   "metadata": {
    "collapsed": false
   },
   "source": [
    "#### Instance methods and attributes"
   ]
  },
  {
   "cell_type": "code",
   "execution_count": 11,
   "id": "9381ec19-060d-4ef7-8d34-cc9ca3da0892",
   "metadata": {
    "collapsed": false
   },
   "outputs": [],
   "source": [
    "class SolutionSpace:\n",
    "    project = 'My PhD'\n",
    "\n",
    "    def __init__(self, obj_vals):\n",
    "        self.obj_vals = obj_vals\n",
    "\n",
    "    def find_best(self, maximise):\n",
    "        if maximise == True:\n",
    "            self.max = self.obj_vals.index(max(self.obj_vals))\n",
    "        else:\n",
    "            self.min = self.obj_vals.index(min(self.obj_vals))"
   ]
  },
  {
   "cell_type": "code",
   "execution_count": 12,
   "id": "7776a901-4dcd-4fb7-947a-293b7c8c6685",
   "metadata": {
    "collapsed": false
   },
   "outputs": [
    {
     "name": "stdout",
     "output_type": "stream",
     "text": [
      "[0.13436424411240122, 0.8474337369372327, 0.763774618976614, 0.2550690257394217, 0.49543508709194095, 0.4494910647887381, 0.651592972722763, 0.7887233511355132, 0.0938595867742349, 0.02834747652200631]\n",
      "Max value is at position 1\n",
      "Min value is at position 9\n"
     ]
    }
   ],
   "source": [
    "random.seed(1)\n",
    "X = SolutionSpace([random.uniform(0,1) for i in range(10)])\n",
    "print(X.obj_vals)\n",
    "X.find_best(maximise = True)\n",
    "print('Max value is at position ' + str(X.max))\n",
    "X.find_best(maximise = False)\n",
    "print('Min value is at position ' + str(X.min))\n"
   ]
  },
  {
   "cell_type": "code",
   "execution_count": 13,
   "id": "f0a03b82-b2de-4f6d-943e-60f3eb31e291",
   "metadata": {
    "collapsed": false
   },
   "outputs": [
    {
     "data": {
      "text/plain": [
       "['__class__',\n",
       " '__delattr__',\n",
       " '__dict__',\n",
       " '__dir__',\n",
       " '__doc__',\n",
       " '__eq__',\n",
       " '__format__',\n",
       " '__ge__',\n",
       " '__getattribute__',\n",
       " '__gt__',\n",
       " '__hash__',\n",
       " '__init__',\n",
       " '__init_subclass__',\n",
       " '__le__',\n",
       " '__lt__',\n",
       " '__module__',\n",
       " '__ne__',\n",
       " '__new__',\n",
       " '__reduce__',\n",
       " '__reduce_ex__',\n",
       " '__repr__',\n",
       " '__setattr__',\n",
       " '__sizeof__',\n",
       " '__str__',\n",
       " '__subclasshook__',\n",
       " '__weakref__',\n",
       " 'find_best',\n",
       " 'max',\n",
       " 'min',\n",
       " 'obj_vals',\n",
       " 'project']"
      ]
     },
     "execution_count": 13,
     "metadata": {},
     "output_type": "execute_result"
    }
   ],
   "source": [
    "dir(X)"
   ]
  },
  {
   "cell_type": "code",
   "execution_count": null,
   "id": "61af84ad-47c2-49be-817e-dbbd53b13d73",
   "metadata": {
    "collapsed": false
   },
   "outputs": [],
   "source": []
  }
 ],
 "metadata": {
  "kernelspec": {
   "argv": [
    "/home/burges26/GitHub/homeless_services/.venv/bin/python3",
    "-m",
    "ipykernel_launcher",
    "-f",
    "{connection_file}"
   ],
   "display_name": ".venv",
   "env": null,
   "interrupt_mode": "signal",
   "language": "python",
   "metadata": {
    "debugger": true
   },
   "name": ".venv"
  },
  "name": "oop-examples.ipynb"
 },
 "nbformat": 4,
 "nbformat_minor": 5
}

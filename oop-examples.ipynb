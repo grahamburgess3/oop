{
 "cells": [
  {
   "cell_type": "markdown",
   "id": "98d7b951-e6b8-4531-9077-f7ae753e8694",
   "metadata": {
    "collapsed": false
   },
   "source": [
    "#### Object oriented programming in Python"
   ]
  },
  {
   "cell_type": "markdown",
   "id": "c1b847df-432a-4c6b-b379-9cd36e3d8f35",
   "metadata": {
    "collapsed": false
   },
   "source": [
    "## Procedural paradigm"
   ]
  },
  {
   "cell_type": "code",
   "execution_count": 3,
   "id": "257c3a19-b248-4532-b95c-4af87ed578f3",
   "metadata": {
    "collapsed": false
   },
   "outputs": [
    {
     "name": "stdout",
     "output_type": "stream",
     "text": [
      "my_int: 2\n"
     ]
    }
   ],
   "source": [
    "def increment(int):\n",
    "    new_int = int + 1\n",
    "    return new_int\n",
    "\n",
    "my_int = 0\n",
    "my_int = increment(my_int)\n",
    "my_int = increment(my_int)\n",
    "print('my_int: ' + str(my_int))"
   ]
  },
  {
   "cell_type": "markdown",
   "id": "96c2b4c4-bd8e-475e-b172-68fe973be5ba",
   "metadata": {
    "collapsed": false
   },
   "source": [
    "## OOP paradigm"
   ]
  },
  {
   "cell_type": "code",
   "execution_count": 7,
   "id": "a6750adf-82bf-4db0-805f-a63c1d3073ec",
   "metadata": {
    "collapsed": false
   },
   "outputs": [
    {
     "name": "stdout",
     "output_type": "stream",
     "text": [
      "my_int: 2\n"
     ]
    }
   ],
   "source": [
    "class MyInt():\n",
    "    def __init__(self):\n",
    "        self.val = 0\n",
    "    def increment(self):\n",
    "        self.val += 1\n",
    "    def __repr__(self):\n",
    "        return str(self.val)\n",
    "\n",
    "my_int = MyInt()\n",
    "my_int.increment()\n",
    "my_int.increment()\n",
    "print('my_int: ' + str(my_int))"
   ]
  }
 ],
 "metadata": {
  "kernelspec": {
   "argv": [
    "/home/burges26/GitHub/homeless_services/.venv/bin/python3",
    "-m",
    "ipykernel_launcher",
    "-f",
    "{connection_file}"
   ],
   "display_name": ".venv",
   "env": null,
   "interrupt_mode": "signal",
   "language": "python",
   "metadata": {
    "debugger": true
   },
   "name": ".venv"
  },
  "name": "oop-examples.ipynb"
 },
 "nbformat": 4,
 "nbformat_minor": 5
}
